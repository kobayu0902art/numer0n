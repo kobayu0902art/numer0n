{
 "cells": [
  {
   "cell_type": "code",
   "execution_count": null,
   "metadata": {},
   "outputs": [],
   "source": [
    "import random\n",
    "def not_duplicate_generator():\n",
    "    #重複チェック用フラグ\n",
    "    replayflag =1\n",
    "    #重複チェック通るまでループ\n",
    "    while replayflag==1:\n",
    "        #コール用数字生成\n",
    "        call=random.randint(12,987)\n",
    "        call=str(call)\n",
    "        #0パディング、しないとstrがout of range\n",
    "        call=call.zfill(3)\n",
    "        #桁で分解\n",
    "        calla=call[0]#百の位\n",
    "        callb=call[1]#十の位\n",
    "        callc=call[2]#一の位\n",
    "        #重複チェック\n",
    "        if calla!=callb and callb!=callc and callc!=calla:\n",
    "            replayflag=0\n",
    "    return call,calla,callb,callc\n",
    "\n",
    "#テスト用\n",
    "repeatflag=0\n",
    "while repeatflag==0:\n",
    "    call,calla,callb,callc=not_duplicate_generator()\n",
    "    print(call)\n",
    "    repeatflag=int(input(\"1:exit\\n\"))\n",
    "input(\"enter\")"
   ]
  },
  {
   "cell_type": "code",
   "execution_count": 18,
   "metadata": {},
   "outputs": [
    {
     "name": "stdout",
     "output_type": "stream",
     "text": [
      "hist:123\n",
      "call:456\n",
      "2\n",
      "1:exit\n",
      "1\n",
      "enter\n"
     ]
    },
    {
     "data": {
      "text/plain": [
       "''"
      ]
     },
     "execution_count": 18,
     "metadata": {},
     "output_type": "execute_result"
    }
   ],
   "source": [
    "def same_number(hist,call):\n",
    "    hist=hist.zfill(3)\n",
    "    call=call.zfill(3)\n",
    "    #桁で分解\n",
    "    calla=call[0]#百の位\n",
    "    callb=call[1]#十の位\n",
    "    callc=call[2]#一の位\n",
    "    #桁で分解\n",
    "    hista=hist[0]#百の位\n",
    "    histb=hist[1]#十の位\n",
    "    histc=hist[2]#一の位\n",
    "    same=0\n",
    "    if hista==calla or hista==callb or hista==callc:\n",
    "        same+=1\n",
    "    if histb==calla or histb==callb or histb==callc:\n",
    "        same+=1\n",
    "    if histc==calla or histc==callb or histc==callc:\n",
    "        same+=1\n",
    "    return same\n",
    "\n",
    "#テスト用\n",
    "repeatflag=0\n",
    "while repeatflag==0:\n",
    "    input(\"hist:\")\n",
    "    input(\"call:\")\n",
    "    aaa=same_number(hist,call)\n",
    "    print(aaa)\n",
    "    repeatflag=int(input(\"1:exit\\n\"))\n",
    "input(\"enter\")"
   ]
  },
  {
   "cell_type": "code",
   "execution_count": 14,
   "metadata": {},
   "outputs": [
    {
     "name": "stdout",
     "output_type": "stream",
     "text": [
      "hist234\n",
      "call254\n",
      "2\n",
      "1:exit\n",
      "0\n",
      "hist234\n",
      "call564\n",
      "2\n",
      "1:exit\n",
      "1\n",
      "enter\n"
     ]
    },
    {
     "data": {
      "text/plain": [
       "''"
      ]
     },
     "execution_count": 14,
     "metadata": {},
     "output_type": "execute_result"
    }
   ],
   "source": [
    "def same_place(hist,call):\n",
    "    #桁で分解\n",
    "    calla=call[0]#百の位\n",
    "    callb=call[1]#十の位\n",
    "    callc=call[2]#一の位\n",
    "    #桁で分解\n",
    "    hista=hist[0]#百の位\n",
    "    histb=hist[1]#十の位\n",
    "    histc=hist[2]#一の位\n",
    "    histeat=0\n",
    "    if hista==calla:\n",
    "        histeat+=1\n",
    "    if histb==callb:\n",
    "        histeat+=1\n",
    "    if histc==callc:\n",
    "        histeat+=1\n",
    "    return histeat\n",
    "\n",
    "#テスト用\n",
    "repeatflag=0\n",
    "while repeatflag==0:\n",
    "    input(\"hist:\")\n",
    "    input(\"call:\")\n",
    "    histeat=same_place(hist,call)\n",
    "    print(histeat)\n",
    "    repeatflag=int(input(\"1:exit\\n\"))\n",
    "input(\"enter\")"
   ]
  },
  {
   "cell_type": "code",
   "execution_count": 10,
   "metadata": {},
   "outputs": [
    {
     "name": "stdout",
     "output_type": "stream",
     "text": [
      "5\n",
      "6\n",
      "7\n",
      "2\n",
      "3\n",
      "4\n"
     ]
    }
   ],
   "source": [
    "#冗長？\n",
    "def digit_devide(hist,call):\n",
    "    #桁で分解\n",
    "    calla=call[0]#百の位\n",
    "    callb=call[1]#十の位\n",
    "    callc=call[2]#一の位\n",
    "    #桁で分解\n",
    "    hista=hist[0]#百の位\n",
    "    histb=hist[1]#十の位\n",
    "    histc=hist[2]#一の位\n",
    "    return calla,callb,callc,hista,histb,histc\n",
    "\n",
    "#テスト用\n",
    "q,w,e,r,t,y=digit_devide(\"234\",\"567\")\n",
    "print(q)\n",
    "print(w)\n",
    "print(e)\n",
    "print(r)\n",
    "print(t)\n",
    "print(y)"
   ]
  },
  {
   "cell_type": "code",
   "execution_count": null,
   "metadata": {},
   "outputs": [],
   "source": []
  }
 ],
 "metadata": {
  "kernelspec": {
   "display_name": "Python 3",
   "language": "python",
   "name": "python3"
  },
  "language_info": {
   "codemirror_mode": {
    "name": "ipython",
    "version": 3
   },
   "file_extension": ".py",
   "mimetype": "text/x-python",
   "name": "python",
   "nbconvert_exporter": "python",
   "pygments_lexer": "ipython3",
   "version": "3.7.3"
  }
 },
 "nbformat": 4,
 "nbformat_minor": 2
}
